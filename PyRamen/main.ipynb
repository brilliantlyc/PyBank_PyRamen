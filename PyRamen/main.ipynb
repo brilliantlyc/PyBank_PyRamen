{
 "cells": [
  {
   "cell_type": "code",
   "execution_count": 1,
   "id": "b0aa464c-9b22-4083-a5e9-3bb8dbf22e73",
   "metadata": {},
   "outputs": [
    {
     "data": {
      "text/plain": [
       "'PyRamen: Financial records analysis.\\nThis script will use the Pathlib library to set the file path,\\nuse the csv library to read in the file, and iterate over each\\nrow of the file to capture: menu data and sales data from two data files,\\nIt will then analyze the financial performance of the Ramen shop business.'"
      ]
     },
     "execution_count": 1,
     "metadata": {},
     "output_type": "execute_result"
    }
   ],
   "source": [
    "# -*- coding: utf-8 -*-\n",
    "\"\"\"PyRamen: Financial records analysis.\n",
    "This script will use the Pathlib library to set the file path,\n",
    "use the csv library to read in the file, and iterate over each\n",
    "row of the file to capture: menu data and sales data from two data files,\n",
    "It will then analyze the financial performance of the Ramen shop business.\"\"\""
   ]
  },
  {
   "cell_type": "code",
   "execution_count": 2,
   "id": "c4f24b6c-dfb8-4635-aad6-d3c1acfc99ae",
   "metadata": {},
   "outputs": [],
   "source": [
    "# Import the pathlib and csv library\n",
    "from pathlib import Path\n",
    "import csv"
   ]
  },
  {
   "cell_type": "code",
   "execution_count": 3,
   "id": "da044875-611f-4220-a038-f1202bb9b55f",
   "metadata": {},
   "outputs": [],
   "source": [
    "# Initialize an empty menu list to hold the menu_data.csv contents\n",
    "menu = []\n",
    "\n",
    "# Set the file path for the menu_data.csv\n",
    "csvpath = Path('Resources/menu_data.csv')"
   ]
  },
  {
   "cell_type": "code",
   "execution_count": 4,
   "id": "77813ac4-5839-424e-b038-6aec7dcd0b1b",
   "metadata": {},
   "outputs": [],
   "source": [
    "# Open the menu_data.csv file\n",
    "with open(csvpath, 'r') as csvfile:\n",
    "    csvreader = csv.reader(csvfile, delimiter=',')\n",
    "    \n",
    "    # Capture the header row of the file in a variable\n",
    "    header = next(csvreader)\n",
    "    \n",
    "    # Loop through the rows of menu data after the header\n",
    "    for row in csvreader:\n",
    "        # Append each row to the menu list\n",
    "        menu.append(row)\n",
    "    "
   ]
  },
  {
   "cell_type": "code",
   "execution_count": 5,
   "id": "a9710948-e48b-4b67-84b6-aee69f04c876",
   "metadata": {},
   "outputs": [],
   "source": [
    "# Initialize an empty sales list object to hold the sales_data.csv contents\n",
    "sales = []\n",
    "\n",
    "# Set the file path for the sales_data.csv\n",
    "csvpath = Path('Resources/sales_data.csv')"
   ]
  },
  {
   "cell_type": "code",
   "execution_count": 6,
   "id": "e3432117-2abe-47e1-85f4-f307d262bfd1",
   "metadata": {},
   "outputs": [],
   "source": [
    "# Open the sales_data.csv file\n",
    "with open(csvpath, 'r') as csvfile:\n",
    "    csvreader = csv.reader(csvfile, delimiter=',')\n",
    "    \n",
    "    # Capture the header row of the file to skip over it\n",
    "    header = next(csvreader)\n",
    "    \n",
    "    # Loop over the rows of menu data, and add them to the sales list\n",
    "    for row in csvreader:\n",
    "        sales.append(row)\n",
    "        "
   ]
  },
  {
   "cell_type": "code",
   "execution_count": 7,
   "id": "b666fa1b-5962-407a-8557-a64911d8f3f0",
   "metadata": {},
   "outputs": [],
   "source": [
    "# Initialize an empty report dictionary to hold the future aggregated per-product results\n",
    "report = {}\n",
    "\n",
    "# Loop through every row in the sales list\n",
    "for row in sales:\n",
    "    # Set the sales data columns to their own variables\n",
    "    quantity = int(row[3])\n",
    "    sales_item = row[4]\n",
    "    \n",
    "    # Check if the sales_item is not already in the report dictionary\n",
    "    if (sales_item in report.keys()) == False:\n",
    "        # Initialize the key-value pairs for the sales_item in the report\n",
    "        report[sales_item] = {\n",
    "                                \"01-count\": 0,\n",
    "                                \"02-revenue\": 0,\n",
    "                                \"03-cogs\": 0,\n",
    "                                \"04-profit\": 0\n",
    "                               }\n",
    "    # Loop through every record in the menu list to create a nested loop\n",
    "    for record in menu:\n",
    "        # Set the menu data columns to their own variables\n",
    "        item = record[0]\n",
    "        price = float(record[3])\n",
    "        cost = float(record[4])\n",
    "        \n",
    "        # If the sales_item in sales is equal to the item in menu, \n",
    "        #capture the quantity from the sales data and \n",
    "        #the price and cost from the menu data to calculate the profit for each item\n",
    "        if sales_item == item:\n",
    "            profit = price - cost\n",
    "            # Cumulatively add the values to the corresponding metrics \n",
    "            # in the report dictionary\n",
    "            report[sales_item][\"01-count\"] += quantity\n",
    "            report[sales_item][\"02-revenue\"] += price * quantity\n",
    "            report[sales_item][\"03-cogs\"] += cost * quantity\n",
    "            report[sales_item][\"04-profit\"] += profit * quantity\n",
    "            \n",
    "       # The else statement is in the homework instructions but it crashes the system     \n",
    "       # else:\n",
    "       #     print(f\"{sales_item} does not equal {item}! NO MATCH!\")"
   ]
  },
  {
   "cell_type": "code",
   "execution_count": 8,
   "id": "c9600c28-f8ea-437f-ae8f-702b5d6c5786",
   "metadata": {},
   "outputs": [],
   "source": [
    "# Write out the contents of the report dictionary to a text file\n",
    "\n",
    "# Set the output file path\n",
    "output_path = Path('output.txt')\n",
    "\n",
    "# Open the output file for writing\n",
    "with open(output_path, 'w') as file:\n",
    "    # Loop through the report dictionary\n",
    "    for key in report.keys():\n",
    "        # Write each output line to the text file\n",
    "        file.write(f\"{key} {report[key]}\\n\")"
   ]
  }
 ],
 "metadata": {
  "kernelspec": {
   "display_name": "Python 3",
   "language": "python",
   "name": "python3"
  },
  "language_info": {
   "codemirror_mode": {
    "name": "ipython",
    "version": 3
   },
   "file_extension": ".py",
   "mimetype": "text/x-python",
   "name": "python",
   "nbconvert_exporter": "python",
   "pygments_lexer": "ipython3",
   "version": "3.7.10"
  }
 },
 "nbformat": 4,
 "nbformat_minor": 5
}
