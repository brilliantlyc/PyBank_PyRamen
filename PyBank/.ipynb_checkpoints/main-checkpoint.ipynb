{
 "cells": [
  {
   "cell_type": "code",
   "execution_count": 24,
   "id": "389ecf49-6930-496e-a299-bc5c315635a0",
   "metadata": {},
   "outputs": [
    {
     "data": {
      "text/plain": [
       "'PyBank: Financial records analysis.\\nThis script will use the Pathlib library to set the file path,\\nuse the csv library to read in the file, and iterate over each\\nrow of the file to capture: date, and profit/losses.\\nIt will calculate: total number of months, \\nnet total amount of profit/losses over the entire period,\\naverage of changes in profit/losses over the entire period,\\ngreatest increase in profits (date and amount) over the entire period,\\ngreatest decrease in losses (date and amount) over the entire period.\\n'"
      ]
     },
     "execution_count": 24,
     "metadata": {},
     "output_type": "execute_result"
    }
   ],
   "source": [
    "# -*- coding: utf-8 -*-\n",
    "\"\"\"PyBank: Financial records analysis.\n",
    "This script will use the Pathlib library to set the file path,\n",
    "use the csv library to read in the file, and iterate over each\n",
    "row of the file to capture: date, and profit/losses.\n",
    "It will calculate: total number of months, \n",
    "net total amount of profit/losses over the entire period,\n",
    "average of changes in profit/losses over the entire period,\n",
    "greatest increase in profits (date and amount) over the entire period,\n",
    "greatest decrease in losses (date and amount) over the entire period.\n",
    "\"\"\""
   ]
  },
  {
   "cell_type": "code",
   "execution_count": 25,
   "id": "6ca9e674-8f37-4052-8bbd-df4681d27ec0",
   "metadata": {},
   "outputs": [],
   "source": [
    "# Import the pathlib and csv library\n",
    "from pathlib import Path\n",
    "import csv"
   ]
  },
  {
   "cell_type": "code",
   "execution_count": 26,
   "id": "72d6e53a-0ab0-4ad1-ba6d-3561cf82d68b",
   "metadata": {},
   "outputs": [],
   "source": [
    "# Set the file path\n",
    "csvpath = Path('Resources/budget_data.csv')"
   ]
  },
  {
   "cell_type": "code",
   "execution_count": 27,
   "id": "eb08f975-bb6c-4e4a-b90b-6a89d9d07404",
   "metadata": {},
   "outputs": [],
   "source": [
    "# Initialize the list variable that will hold the budget_data.csv rows\n",
    "# This will be a nested list containing the rows, and each row will be a sublist\n",
    "# containing a date value and a profit/losses value\n",
    "budget_data = []"
   ]
  },
  {
   "cell_type": "code",
   "execution_count": 28,
   "id": "3529a0ac-502f-496b-9dd2-e1f04adbbace",
   "metadata": {},
   "outputs": [],
   "source": [
    "# Initialize variable to count the total number of months\n",
    "# which is the same as the total number lines of data\n",
    "month = 0"
   ]
  },
  {
   "cell_type": "code",
   "execution_count": 29,
   "id": "956399ca-221f-45ce-93e4-d0ea4584797e",
   "metadata": {},
   "outputs": [],
   "source": [
    "# Open the input file\n",
    "with open(csvpath, 'r') as csvfile:\n",
    "    csvreader = csv.reader(csvfile, delimiter=',')\n",
    "    \n",
    "    # Capture the header of the file in a variable\n",
    "    header = next(csvreader)\n",
    "    \n",
    "    # Read each row of budget data after the header\n",
    "    for row in csvreader:\n",
    "        # Append the row to the budget_data list\n",
    "        budget_data.append(row)\n",
    "        # Increment the month count by 1\n",
    "        month += 1\n",
    "        "
   ]
  },
  {
   "cell_type": "code",
   "execution_count": 30,
   "id": "b52edd0f-e3f2-487e-bb6b-ad5820950214",
   "metadata": {},
   "outputs": [],
   "source": [
    "# Initialize metric variables\n",
    "net_total_amount = 0\n",
    "# Variables to compute the average changes\n",
    "monthly_change = 0\n",
    "monthly_changes = []\n",
    "average_change = 0\n",
    "# Greatest increase in profits and the date\n",
    "greatest_increase = 0\n",
    "greatest_increase_date = \"\"\n",
    "# Greatest decrease in losses and the date\n",
    "greatest_decrease = 0\n",
    "greatest_decrease_date = \"\""
   ]
  },
  {
   "cell_type": "code",
   "execution_count": 31,
   "id": "64fe6a8f-8236-4909-8bb8-5e32fc5c2f01",
   "metadata": {},
   "outputs": [],
   "source": [
    "# Loop through the budget_data list\n",
    "for row in budget_data:\n",
    "    # Calculate the net total amount of profit/losses over the entire period\n",
    "    # by adding the profit/losses of each row\n",
    "    net_total_amount += int(row[1])\n",
    "    \n"
   ]
  },
  {
   "cell_type": "code",
   "execution_count": 32,
   "id": "f1dab742-0691-427d-a535-998481d3e339",
   "metadata": {},
   "outputs": [],
   "source": [
    "# Calculate the monthly changes in profit/losses\n",
    "\n",
    "# Skip the first month as there is no prior month to compute a change\n",
    "# Loop through the budget_data list starting with the 2nd month and ending with the last month\n",
    "for i in range(1, month):\n",
    "    # Calculate the monthly change by obtaining the budget_data's profit/losses value of each month\n",
    "    # and subtracting the prior month value\n",
    "    monthly_change = int(budget_data[i][1]) - int(budget_data[i - 1][1])\n",
    "    monthly_changes.append(monthly_change)\n",
    "    \n",
    "    # Compare monthly_change to greatest_increase or greatest_decrease and update metrics\n",
    "    # To get the dates we access the first value (index = 0) in the current row of the budget_data list\n",
    "    if monthly_change > greatest_increase:\n",
    "        greatest_increase = monthly_change\n",
    "        greatest_increase_date = budget_data[i][0]\n",
    "    elif monthly_change < greatest_decrease:\n",
    "        greatest_decrease = monthly_change\n",
    "        greatest_decrease_date = budget_data[i][0]\n",
    "    "
   ]
  },
  {
   "cell_type": "code",
   "execution_count": 33,
   "id": "69df788b-5e47-4c6f-82f8-f4bb10350d71",
   "metadata": {},
   "outputs": [],
   "source": [
    "# Calculate the average of the changes in profits/losses\n",
    "# Initialize sum variable to calculate averaage\n",
    "sum = 0\n",
    "\n",
    "# Loop through monthly_changes list to add up the changes\n",
    "for change in monthly_changes:\n",
    "    sum += change\n",
    "# Compute average_change\n",
    "average_change = round(sum / len(monthly_changes), 2)\n",
    "    "
   ]
  },
  {
   "cell_type": "code",
   "execution_count": 34,
   "id": "84a0b02b-d515-452f-9b5c-823ac5fd1300",
   "metadata": {},
   "outputs": [],
   "source": [
    "# Create the lines of text to be output to the terminal and to a text file\n",
    "# Initialize a list for the output lines\n",
    "output_lines = []\n",
    "output_lines.append(\"Financial Analysis\")\n",
    "output_lines.append(\"----------------------------\")\n",
    "output_lines.append(f\"Total Months: {month}\")\n",
    "output_lines.append(f\"Total: ${net_total_amount}\")\n",
    "output_lines.append(f\"Average Change: ${average_change}\")\n",
    "output_lines.append(f\"Greatest Increase in Profits: {greatest_increase_date} (${greatest_increase})\")\n",
    "output_lines.append(f\"Greatest Decrease in Profits: {greatest_decrease_date} (${greatest_decrease})\")\n"
   ]
  },
  {
   "cell_type": "code",
   "execution_count": 35,
   "id": "458c9331-9220-4da8-b348-7b45ef4150be",
   "metadata": {},
   "outputs": [
    {
     "name": "stdout",
     "output_type": "stream",
     "text": [
      "Financial Analysis\n",
      "----------------------------\n",
      "Total Months: 86\n",
      "Total: $38382578\n",
      "Average Change: $-2315.12\n",
      "Greatest Increase in Profits: Feb-2012 ($1926159)\n",
      "Greatest Decrease in Profits: Sep-2013 ($-2196167)\n"
     ]
    }
   ],
   "source": [
    "# Print the analysis to the terminal and export a text file with the results\n",
    "\n",
    "# Set the output file path\n",
    "output_path = Path('output.txt')\n",
    "\n",
    "# Open the output file for writing\n",
    "with open(output_path, 'w') as file:\n",
    "    # Loop through the output_lines list\n",
    "    for line in output_lines:\n",
    "        # Print each output line to the terminal\n",
    "        print(line)\n",
    "        # Write each output line to the text file\n",
    "        file.write(line + \"\\n\")\n"
   ]
  }
 ],
 "metadata": {
  "kernelspec": {
   "display_name": "Python 3",
   "language": "python",
   "name": "python3"
  },
  "language_info": {
   "codemirror_mode": {
    "name": "ipython",
    "version": 3
   },
   "file_extension": ".py",
   "mimetype": "text/x-python",
   "name": "python",
   "nbconvert_exporter": "python",
   "pygments_lexer": "ipython3",
   "version": "3.7.10"
  }
 },
 "nbformat": 4,
 "nbformat_minor": 5
}
