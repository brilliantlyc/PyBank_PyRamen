{
 "cells": [
  {
   "cell_type": "code",
   "execution_count": 85,
   "id": "389ecf49-6930-496e-a299-bc5c315635a0",
   "metadata": {},
   "outputs": [
    {
     "data": {
      "text/plain": [
       "'PyBank: Financial records analysis.\\nThis script will use the Pathlib library to set the file path,\\nuse the csv library to read in the file, and iterate over each\\nrow of the file to capture: date, and profit/losses.\\nIt will calculate: total number of months, \\nnet total amount of profit/losses over the entire period,\\naverage of changes in profit/losses over the entire period,\\ngreatest increase in profits (date and amount) over the entire period,\\ngreatest decrease in losses (date and amount) over the entire period.\\n'"
      ]
     },
     "execution_count": 85,
     "metadata": {},
     "output_type": "execute_result"
    }
   ],
   "source": [
    "# -*- coding: utf-8 -*-\n",
    "\"\"\"PyBank: Financial records analysis.\n",
    "This script will use the Pathlib library to set the file path,\n",
    "use the csv library to read in the file, and iterate over each\n",
    "row of the file to capture: date, and profit/losses.\n",
    "It will calculate: total number of months, \n",
    "net total amount of profit/losses over the entire period,\n",
    "average of changes in profit/losses over the entire period,\n",
    "greatest increase in profits (date and amount) over the entire period,\n",
    "greatest decrease in losses (date and amount) over the entire period.\n",
    "\"\"\""
   ]
  },
  {
   "cell_type": "code",
   "execution_count": 86,
   "id": "6ca9e674-8f37-4052-8bbd-df4681d27ec0",
   "metadata": {},
   "outputs": [],
   "source": [
    "# Import the pathlib and csv library\n",
    "from pathlib import Path\n",
    "import csv"
   ]
  },
  {
   "cell_type": "code",
   "execution_count": 87,
   "id": "72d6e53a-0ab0-4ad1-ba6d-3561cf82d68b",
   "metadata": {},
   "outputs": [],
   "source": [
    "# Set the file path\n",
    "csvpath = Path('../Resources/budget_data.csv')"
   ]
  },
  {
   "cell_type": "code",
   "execution_count": 88,
   "id": "eb08f975-bb6c-4e4a-b90b-6a89d9d07404",
   "metadata": {},
   "outputs": [],
   "source": [
    "# Initialize list variables to hold date and profit/losses\n",
    "date = []\n",
    "profit_losses = []"
   ]
  },
  {
   "cell_type": "code",
   "execution_count": 89,
   "id": "3529a0ac-502f-496b-9dd2-e1f04adbbace",
   "metadata": {},
   "outputs": [],
   "source": [
    "# Initialize variable to count number of lines of data\n",
    "line_num = 0"
   ]
  },
  {
   "cell_type": "code",
   "execution_count": 90,
   "id": "956399ca-221f-45ce-93e4-d0ea4584797e",
   "metadata": {},
   "outputs": [],
   "source": [
    "# Open the input file\n",
    "with open(csvpath, 'r') as csvfile:\n",
    "    csvreader = csv.reader(csvfile, delimiter=',')\n",
    "    \n",
    "    # Capture the header of the file in a variable\n",
    "    header = next(csvreader)\n",
    "    \n",
    "    # Read each row of budget data after the header\n",
    "    for row in csvreader:\n",
    "        # Append the row date and amount to the corresponding list variables\n",
    "        date.append(row[0]) \n",
    "        profit_losses.append(int(row[1]))\n",
    "        # Increment the line number by 1\n",
    "        line_num += 1\n",
    "        "
   ]
  },
  {
   "cell_type": "code",
   "execution_count": 91,
   "id": "b52edd0f-e3f2-487e-bb6b-ad5820950214",
   "metadata": {},
   "outputs": [],
   "source": [
    "# Initialize metric variables\n",
    "net_total_amount = 0\n",
    "monthly_changes = []\n",
    "# Variables to compute the average changes\n",
    "monthly_change = 0\n",
    "average_change = 0\n",
    "# Greatest increase in profits and the date\n",
    "greatest_increase = 0\n",
    "greatest_increase_date = \"\"\n",
    "# Greatest decrease in losses and the date\n",
    "greatest_decrease = 0\n",
    "greatest_decrease_date = \"\""
   ]
  },
  {
   "cell_type": "code",
   "execution_count": 92,
   "id": "64fe6a8f-8236-4909-8bb8-5e32fc5c2f01",
   "metadata": {},
   "outputs": [],
   "source": [
    "# Loop through the profit/losses list\n",
    "for amount in profit_losses:\n",
    "    # Calculate the net total amount of profit/losses over the entire period\n",
    "    net_total_amount += amount\n",
    "    \n"
   ]
  },
  {
   "cell_type": "code",
   "execution_count": 93,
   "id": "f1dab742-0691-427d-a535-998481d3e339",
   "metadata": {},
   "outputs": [],
   "source": [
    "# Calculate the monthly changes in profit/losses\n",
    "\n",
    "# Skip the first month as there is no prior month to compute a change\n",
    "\n",
    "for i in range(1, line_num):\n",
    "    # Calculate the monthly change\n",
    "    monthly_change = profit_losses[i] - profit_losses[i - 1]\n",
    "    monthly_changes.append(monthly_change)\n",
    "    \n",
    "    # Compare the monthly change to the greatest_increase and update metrics\n",
    "    if monthly_change > greatest_increase:\n",
    "        greatest_increase = monthly_change\n",
    "        greatest_increase_date = date[i]\n",
    "   # Compare the monthly change to the greatest_decrease and update metrics\n",
    "    if monthly_change < greatest_decrease:\n",
    "        greatest_decrease = monthly_change\n",
    "        greatest_decrease_date = date[i]\n",
    "    "
   ]
  },
  {
   "cell_type": "code",
   "execution_count": 95,
   "id": "134aa3ae-649d-4ff2-8e11-9029137d153e",
   "metadata": {},
   "outputs": [
    {
     "name": "stdout",
     "output_type": "stream",
     "text": [
      "Financial Analysis\n",
      "----------------------------\n",
      "Total Months: 86\n",
      "Total: $38382578\n",
      "Greatest Increase in Profits: Feb-2012 ($1926159)\n",
      "Greatest Decrease in Profits: Sep-2013 ($-2196167)\n"
     ]
    }
   ],
   "source": [
    "# Print the resulting analysis\n",
    "print(\"Financial Analysis\")\n",
    "print(\"----------------------------\")\n",
    "# The line_num is the total number of rows or the total number of months\n",
    "print(f\"Total Months: {line_num}\")\n",
    "print(f\"Total: ${net_total_amount}\")\n",
    "\n",
    "print(f\"Greatest Increase in Profits: {greatest_increase_date} (${greatest_increase})\")\n",
    "print(f\"Greatest Decrease in Profits: {greatest_decrease_date} (${greatest_decrease})\")\n"
   ]
  }
 ],
 "metadata": {
  "kernelspec": {
   "display_name": "Python 3",
   "language": "python",
   "name": "python3"
  },
  "language_info": {
   "codemirror_mode": {
    "name": "ipython",
    "version": 3
   },
   "file_extension": ".py",
   "mimetype": "text/x-python",
   "name": "python",
   "nbconvert_exporter": "python",
   "pygments_lexer": "ipython3",
   "version": "3.7.10"
  }
 },
 "nbformat": 4,
 "nbformat_minor": 5
}
