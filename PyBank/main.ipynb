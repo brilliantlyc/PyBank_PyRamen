{
 "cells": [
  {
   "cell_type": "code",
   "execution_count": 30,
   "id": "389ecf49-6930-496e-a299-bc5c315635a0",
   "metadata": {},
   "outputs": [
    {
     "data": {
      "text/plain": [
       "'PyBank: Financial records analysis.\\nThis script will use the Pathlib library to set the file path,\\nuse the csv library to read in the file, and iterate over each\\nrow of the file to capture: date, and profit/losses.\\nIt will calculate: total number of months, \\nnet total amount of profit/losses over the entire period,\\naverage of changes in profit/losses over the entire period,\\ngreatest increase in profits (date and amount) over the entire period,\\ngreatest decrease in losses (date and amount) over the entire period.\\n'"
      ]
     },
     "execution_count": 30,
     "metadata": {},
     "output_type": "execute_result"
    }
   ],
   "source": [
    "# -*- coding: utf-8 -*-\n",
    "\"\"\"PyBank: Financial records analysis.\n",
    "This script will use the Pathlib library to set the file path,\n",
    "use the csv library to read in the file, and iterate over each\n",
    "row of the file to capture: date, and profit/losses.\n",
    "It will calculate: total number of months, \n",
    "net total amount of profit/losses over the entire period,\n",
    "average of changes in profit/losses over the entire period,\n",
    "greatest increase in profits (date and amount) over the entire period,\n",
    "greatest decrease in losses (date and amount) over the entire period.\n",
    "\"\"\""
   ]
  },
  {
   "cell_type": "code",
   "execution_count": 31,
   "id": "6ca9e674-8f37-4052-8bbd-df4681d27ec0",
   "metadata": {},
   "outputs": [],
   "source": [
    "# Import the pathlib and csv library\n",
    "from pathlib import Path\n",
    "import csv"
   ]
  },
  {
   "cell_type": "code",
   "execution_count": 32,
   "id": "72d6e53a-0ab0-4ad1-ba6d-3561cf82d68b",
   "metadata": {},
   "outputs": [],
   "source": [
    "# Set the file path\n",
    "csvpath = Path('../Resources/budget_data.csv')"
   ]
  },
  {
   "cell_type": "code",
   "execution_count": 33,
   "id": "eb08f975-bb6c-4e4a-b90b-6a89d9d07404",
   "metadata": {},
   "outputs": [],
   "source": [
    "# Initialize list variables to hold date and profit/losses\n",
    "date = []\n",
    "profit_losses = []"
   ]
  },
  {
   "cell_type": "code",
   "execution_count": 34,
   "id": "3529a0ac-502f-496b-9dd2-e1f04adbbace",
   "metadata": {},
   "outputs": [],
   "source": [
    "# Initialize variable to count number of lines of data\n",
    "line_num = 0"
   ]
  },
  {
   "cell_type": "code",
   "execution_count": 35,
   "id": "956399ca-221f-45ce-93e4-d0ea4584797e",
   "metadata": {},
   "outputs": [],
   "source": [
    "# Open the input file\n",
    "with open(csvpath, 'r') as csvfile:\n",
    "    csvreader = csv.reader(csvfile, delimiter=',')\n",
    "    \n",
    "    # Capture the header of the file in a variable\n",
    "    header = next(csvreader)\n",
    "    \n",
    "    # Read each row of budget data after the header\n",
    "    for row in csvreader:\n",
    "        # Append the row date and amount to the corresponding list variables\n",
    "        date.append(row[0]) \n",
    "        profit_losses.append(int(row[1]))\n",
    "        # Increment the line number by 1\n",
    "        line_num += 1\n",
    "        "
   ]
  },
  {
   "cell_type": "code",
   "execution_count": 36,
   "id": "b52edd0f-e3f2-487e-bb6b-ad5820950214",
   "metadata": {},
   "outputs": [],
   "source": [
    "# Initialize metric variables\n",
    "net_total_amount = 0\n"
   ]
  },
  {
   "cell_type": "code",
   "execution_count": 37,
   "id": "64fe6a8f-8236-4909-8bb8-5e32fc5c2f01",
   "metadata": {},
   "outputs": [],
   "source": [
    "# Calculate the net total amount of profit/losses over the entire period\n",
    "for amount in profit_losses:\n",
    "    net_total_amount += amount"
   ]
  },
  {
   "cell_type": "code",
   "execution_count": 38,
   "id": "c99e6b01-9716-4a0e-a87c-8faf605cb5a8",
   "metadata": {},
   "outputs": [
    {
     "name": "stdout",
     "output_type": "stream",
     "text": [
      "Financial Analysis\n",
      "----------------------------\n",
      "Total Months: 86\n"
     ]
    }
   ],
   "source": [
    "# Print the resulting analysis\n",
    "print(\"Financial Analysis\")\n",
    "print(\"----------------------------\")\n",
    "# The line_num is the total number of rows or the total number of months\n",
    "print(f\"Total Months: {line_num}\")\n",
    "print(f\"T\")"
   ]
  }
 ],
 "metadata": {
  "kernelspec": {
   "display_name": "Python 3",
   "language": "python",
   "name": "python3"
  },
  "language_info": {
   "codemirror_mode": {
    "name": "ipython",
    "version": 3
   },
   "file_extension": ".py",
   "mimetype": "text/x-python",
   "name": "python",
   "nbconvert_exporter": "python",
   "pygments_lexer": "ipython3",
   "version": "3.7.10"
  }
 },
 "nbformat": 4,
 "nbformat_minor": 5
}
